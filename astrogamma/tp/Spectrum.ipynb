{
 "cells": [
  {
   "cell_type": "markdown",
   "metadata": {},
   "source": [
    "Renseigner le chemin du fichier spectrum.fits"
   ]
  },
  {
   "cell_type": "code",
   "execution_count": 1,
   "metadata": {},
   "outputs": [],
   "source": [
    "fileData = 'spectrum.fits'"
   ]
  },
  {
   "cell_type": "code",
   "execution_count": 2,
   "metadata": {},
   "outputs": [
    {
     "name": "stdout",
     "output_type": "stream",
     "text": [
      "spectrum.fits\n",
      "Le fichier est présent\n"
     ]
    }
   ],
   "source": [
    "from astropy.io import fits\n",
    "\n",
    "\n",
    "import os.path\n",
    "print(fileData)\n",
    "if (os.path.exists(fileData)):\n",
    "    print('Le fichier est présent')\n",
    "else:\n",
    "    print(\"Le fichier est faux\")\n",
    "data= fits.open(fileData)\n"
   ]
  },
  {
   "cell_type": "code",
   "execution_count": 3,
   "metadata": {},
   "outputs": [
    {
     "data": {
      "image/png": "[encoded data removed]",
      "text/plain": [
       "<Figure size 1008x504 with 2 Axes>"
      ]
     },
     "metadata": {
      "needs_background": "light"
     },
     "output_type": "display_data"
    }
   ],
   "source": [
    "#! /usr/bin/env python\n",
    "\n",
    "import matplotlib.pyplot as plt\n",
    "\n",
    "\n",
    "\n",
    "emin=[]\n",
    "emax=[]\n",
    "emoy=[]\n",
    "flux=[]\n",
    "errflux=[]\n",
    "intflux_energy = []\n",
    "errintflux_energy = []\n",
    "intflux_photon = []\n",
    "errintflux_photon = []\n",
    "\n",
    "for i in range(0,len(data[1].data)):\n",
    "    emin.append(data[1].data[i][1])\n",
    "    emax.append(data[1].data[i][2])\n",
    "    emoy.append(data[1].data[i][0])\n",
    "    flux.append(data[1].data[i][6]*data[1].data[i][3])\n",
    "    errflux.append(data[1].data[i][6]*data[1].data[i][4])\n",
    "\n",
    "    \n",
    "    dnde = data[1].data[i][7]*data[1].data[i][3]*1e6\n",
    "    intflux_energy.append(((emax[i]*1.602)**2-(emin[i]*1.602)**2)/2*(dnde/1.602))\n",
    "    errintflux_energy.append(intflux_energy[i]*errflux[i]/flux[i])\n",
    "    intflux_photon.append((emax[i]-emin[i])*dnde)\n",
    "    errintflux_photon.append(intflux_photon[i]*errflux[i]/flux[i])\n",
    "\n",
    "plt.figure(figsize=(14, 7))\n",
    "plt.subplot(1, 2, 1)\n",
    "plt.loglog()\n",
    "plt.grid()\n",
    "plt.errorbar(emoy, flux, yerr=errflux, xerr=[emin, emax], fmt='ro')\n",
    "plt.xlabel('Energy (TeV)')\n",
    "plt.ylabel(r'E$^2$ $\\times$ dN/dE (erg cm$^{-2}$ s$^{-1}$)')\n",
    "plt.subplot(1, 2, 2)\n",
    "plt.loglog()\n",
    "plt.grid()\n",
    "plt.errorbar(emoy, intflux_energy, yerr=errintflux_energy, xerr=[emin, emax], fmt='ro')\n",
    "plt.xlabel('Energy (TeV)')\n",
    "plt.ylabel(r'Flux (erg cm$^{-2}$ s$^{-1}$)')\n",
    "\n",
    "# Show figure\n",
    "plt.show()"
   ]
  },
  {
   "cell_type": "code",
   "execution_count": 4,
   "metadata": {},
   "outputs": [
    {
     "name": "stdout",
     "output_type": "stream",
     "text": [
      "Energie (TeV)  Flux +/- dFlux (erg/cm*2/s)\n",
      "0.10573712634405638 3.683348619350615e-12 2.6689307577653993e-13\n",
      "0.47287080450158786 1.6751352815038335e-12 1.0958105608796953e-13\n",
      "2.1147425268811286 8.325134630705575e-13 7.916800758573975e-14\n",
      "9.45741609003176 4.0857115575864094e-13 8.140056592981056e-14\n"
     ]
    }
   ],
   "source": [
    "print(\"Energie (TeV)  Flux +/- dFlux (erg/cm*2/s)\")\n",
    "for i in range(len(flux)):\n",
    "    print(emoy[i],intflux_energy[i],errintflux_energy[i])"
   ]
  },
  {
   "cell_type": "code",
   "execution_count": 5,
   "metadata": {},
   "outputs": [
    {
     "name": "stdout",
     "output_type": "stream",
     "text": [
      "Energie (TeV)  Flux +/- dFlux (photon/cm*2/s)\n",
      "0.10573712634405638 2.648765939253113e-11 1.91927879111273e-12\n",
      "0.47287080450158786 2.693615766606105e-12 1.7620622266096494e-13\n",
      "2.1147425268811286 2.9933812039487555e-13 2.8465608830777704e-14\n",
      "9.45741609003176 3.284909938569146e-14 6.544601209830574e-15\n"
     ]
    }
   ],
   "source": [
    "print(\"Energie (TeV)  Flux +/- dFlux (photon/cm*2/s)\")\n",
    "for i in range(len(flux)):\n",
    "    print(emoy[i],intflux_photon[i],errintflux_photon[i])"
   ]
  },
  {
   "cell_type": "code",
   "execution_count": 6,
   "metadata": {},
   "outputs": [
    {
     "name": "stdout",
     "output_type": "stream",
     "text": [
      "Energie (TeV)  SED +/- dSED (erg/cm*2/s)\n",
      "0.10573712634405638 7.6364199506452e-12 5.533300860640106e-13\n",
      "0.47287080450158786 3.4729366686883987e-12 2.2718646791312212e-13\n",
      "2.1147425268811286 1.7259898737724055e-12 1.6413329691479473e-13\n",
      "9.45741609003176 8.470609892048508e-13 1.6876189845147126e-13\n"
     ]
    }
   ],
   "source": [
    "print(\"Energie (TeV)  SED +/- dSED (erg/cm*2/s)\")\n",
    "for i in range(len(flux)):\n",
    "    print(emoy[i],flux[i],errflux[i])"
   ]
  }
 ],
 "metadata": {
  "kernelspec": {
   "display_name": "Python 3 (ipykernel)",
   "language": "python",
   "name": "python3"
  },
  "language_info": {
   "codemirror_mode": {
    "name": "ipython",
    "version": 3
   },
   "file_extension": ".py",
   "mimetype": "text/x-python",
   "name": "python",
   "nbconvert_exporter": "python",
   "pygments_lexer": "ipython3",
   "version": "3.8.2"
  }
 },
 "nbformat": 4,
 "nbformat_minor": 4
}
