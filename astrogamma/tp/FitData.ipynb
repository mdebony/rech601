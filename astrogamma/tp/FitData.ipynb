{
 "cells": [
  {
   "cell_type": "code",
   "execution_count": null,
   "metadata": {},
   "outputs": [],
   "source": [
    "import numpy,scipy.optimize\n",
    "import matplotlib.pyplot as plt\n",
    "import numpy as np\n",
    "\n",
    "#Quelques exemples de fonctions utilisee pour le fit des donnees\n",
    "powerlaw = lambda x,norm,index, : norm * (x / 1.) ** (-index / 1.) \n",
    "\n",
    "#################################################### Donnees a remplir ###################################################\n",
    "\n",
    "#points spectraux de la source \n",
    "x = [] # TeV\n",
    "y = [] # photon cm-2 s-1\n",
    "err_y = [] # photon cm-2 s-1\n",
    "\n",
    "########################################## Ajustement et graphique #####################################################\n",
    "\n",
    "popt, pcov = scipy.optimize.curve_fit(powerlaw, x, y, p0=[1e-13,2.51],sigma=err_y)\n",
    "\n",
    "#Print les resultats\n",
    "print(\"Indice = \" + str(popt[1]+1) + \" +- \"+ str(np.sqrt(pcov[1][1])))\n",
    "print(\"Norme = \" + str(popt[0]) + \" + -  \"+ str(np.sqrt(pcov[0][0]))+ \" erg cm^-2 s^-1\")\n"
   ]
  }
 ],
 "metadata": {
  "kernelspec": {
   "display_name": "Python 3 (ipykernel)",
   "language": "python",
   "name": "python3"
  },
  "language_info": {
   "codemirror_mode": {
    "name": "ipython",
    "version": 3
   },
   "file_extension": ".py",
   "mimetype": "text/x-python",
   "name": "python",
   "nbconvert_exporter": "python",
   "pygments_lexer": "ipython3",
   "version": "3.8.2"
  }
 },
 "nbformat": 4,
 "nbformat_minor": 4
}
