{
 "cells": [
  {
   "cell_type": "code",
   "execution_count": null,
   "metadata": {},
   "outputs": [],
   "source": [
    "import matplotlib.pyplot as plt\n",
    "#Défini les données\n",
    "import numpy as np\n",
    "\n",
    "fileData = \"source2_lowenergy.txt\"\n",
    "import os.path\n",
    "if (os.path.exists(fileData)):\n",
    "    print('Le fichier '+fileData+' est présent')\n",
    "else:\n",
    "    print(\"Le fichier \"+fileData+\" est faux\")\n",
    "\n",
    "data = np.loadtxt(fileData,unpack=True,dtype=float)\n",
    "\n",
    "x = data[0]\n",
    "y = data[2]\n",
    "plt.figure()\n",
    "plt.xlabel(\"axe des X\")\n",
    "plt.ylabel(\"Axe des Y\")\n",
    "plt.errorbar(x,y,fmt='.')\n",
    "\n",
    "##AJUSTEMENT AVEC UN POL D ORDRE 2\n",
    "z = np.polyfit(x, y, 2)\n",
    "xx = np.linspace(np.min(x),np.max(x))\n",
    "p = np.poly1d(z)\n",
    "print(x[np.argmax(p(x))])\n",
    "print(\"Source 2 : Energy maximum : \",(np.power(10,x[np.argmax(p(x))])*1e12) , \" eV\")\n",
    "\n",
    "plt.plot(xx,p(xx),label='model')\n",
    "\n",
    "fileData = \"source2_fermi.txt\"\n",
    "import os.path\n",
    "if (os.path.exists(fileData)):\n",
    "    print('Le fichier '+fileData+' est présent')\n",
    "else:\n",
    "    print(\"Le fichier \"+fileData+\" est faux\")\n",
    "\n",
    "data = np.loadtxt(fileData,unpack=True,dtype=float)\n",
    "x = data[0]\n",
    "y = data[2]\n",
    "plt.errorbar(x,y,fmt='.')\n",
    "plt.show() #permet de tracer"
   ]
  },
  {
   "cell_type": "markdown",
   "metadata": {},
   "source": [
    "ajouter les points obtenus lors du TP\n",
    "ajuster ces données avec celle de Fermi"
   ]
  }
 ],
 "metadata": {
  "kernelspec": {
   "display_name": "Python 3 (ipykernel)",
   "language": "python",
   "name": "python3"
  },
  "language_info": {
   "codemirror_mode": {
    "name": "ipython",
    "version": 3
   },
   "file_extension": ".py",
   "mimetype": "text/x-python",
   "name": "python",
   "nbconvert_exporter": "python",
   "pygments_lexer": "ipython3",
   "version": "3.8.2"
  }
 },
 "nbformat": 4,
 "nbformat_minor": 4
}
