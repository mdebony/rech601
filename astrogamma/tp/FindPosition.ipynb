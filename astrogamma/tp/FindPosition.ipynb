{
 "cells": [
  {
   "cell_type": "markdown",
   "metadata": {},
   "source": [
    "Chapite 1"
   ]
  },
  {
   "cell_type": "markdown",
   "metadata": {},
   "source": [
    "Renseigner dans fileData le nom et le chemin de votre fichier skymap"
   ]
  },
  {
   "cell_type": "code",
   "execution_count": null,
   "metadata": {},
   "outputs": [],
   "source": [
    "fileData = ''\n",
    "import os.path\n",
    "print(fileData)\n",
    "if (os.path.exists(fileData)):\n",
    "    print('Le fichier est présent')\n",
    "else:\n",
    "    print(\"Le fichier n'existe pas\")"
   ]
  },
  {
   "cell_type": "code",
   "execution_count": null,
   "metadata": {},
   "outputs": [],
   "source": [
    "import numpy as np\n",
    "import matplotlib.pyplot as plt\n",
    "from astropy.modeling import models, fitting\n",
    "from astropy.io import fits\n",
    "from astropy.wcs import WCS\n",
    "\n",
    "controlPlot = True"
   ]
  },
  {
   "cell_type": "markdown",
   "metadata": {},
   "source": [
    "Read data and find position of sources by modelling the spatial emision "
   ]
  },
  {
   "cell_type": "markdown",
   "metadata": {},
   "source": [
    "Première étape : ajustement du fond global"
   ]
  },
  {
   "cell_type": "code",
   "execution_count": null,
   "metadata": {},
   "outputs": [],
   "source": [
    "\n",
    "file = fits.open(fileData)\n",
    "image= file[0].data\n",
    "cdelt = np.abs(file[0].header['CDELT1'])\n",
    "\n",
    "x,y=np.mgrid[:image.shape[0],:image.shape[1]]\n",
    "fit_p = fitting.LevMarLSQFitter()\n",
    "\n",
    "modelBackground =  models.Gaussian2D(amplitude=15.2,x_mean=image.shape[0]/2,y_mean=image.shape[1]/2)\n",
    "\n",
    "#Fit background\n",
    "modelBackground = fit_p(modelBackground, x, y, image)\n",
    "# Contol plot\n",
    "if controlPlot:\n",
    "    plt.figure(figsize=(15,5))\n",
    "    plt.subplot(1,3,1, title='Données')\n",
    "    plt.imshow(image)\n",
    "    plt.subplot(1,3,2, title='Modèle')\n",
    "    plt.imshow(modelBackground(x, y))\n",
    "    plt.subplot(1,3,3, title='résidus (Donnée - Modèle)')\n",
    "    plt.imshow(image-modelBackground(x, y))\n"
   ]
  },
  {
   "cell_type": "markdown",
   "metadata": {},
   "source": [
    "Modèle pour Centaurus A"
   ]
  },
  {
   "cell_type": "code",
   "execution_count": null,
   "metadata": {},
   "outputs": [],
   "source": [
    "modelSourceCenA = models.Gaussian2D(amplitude=15.2,x_mean=image.shape[0]/2,y_mean=image.shape[1]/2)"
   ]
  },
  {
   "cell_type": "markdown",
   "metadata": {},
   "source": [
    "Modèle pour Source2"
   ]
  },
  {
   "cell_type": "code",
   "execution_count": null,
   "metadata": {},
   "outputs": [],
   "source": [
    "modelSource2 = models.Gaussian2D(amplitude=15.2,x_mean=0.56*image.shape[0],y_mean=0.81*image.shape[1])"
   ]
  },
  {
   "cell_type": "code",
   "execution_count": null,
   "metadata": {},
   "outputs": [],
   "source": [
    "\n",
    "\n",
    "imageModel = modelBackground+modelSourceCenA+modelSource2\n",
    "#Make a symmetric gaussian\n",
    "imageModel.y_stddev_1.tied = lambda model : model.x_stddev_1\n",
    "imageModel.y_stddev_2.tied = lambda model : model.x_stddev_2\n",
    "imageModel.theta_1.fixed = True\n",
    "imageModel.theta_2.fixed = True\n",
    "\n",
    "#Fit model with source       \n",
    "imageModel = fit_p(imageModel, x, y, image, maxiter=500)\n",
    "# Contol plot\n",
    "if controlPlot:\n",
    "    plt.figure(figsize=(15,5))\n",
    "    plt.subplot(1,3,1, title='Données')\n",
    "    plt.imshow(image)\n",
    "    plt.subplot(1,3,2, title='Modèle')\n",
    "    plt.imshow(imageModel(x, y))\n",
    "    plt.subplot(1,3,3, title='résidus (Donnée - Modèle)')\n",
    "    plt.imshow((image-imageModel(x, y)))\n",
    "\n",
    "covMatrix = fit_p.fit_info['param_cov']\n",
    "errVector = np.sqrt(covMatrix.diagonal())\n",
    "    \n",
    "coodSystem = WCS(fileData)"
   ]
  },
  {
   "cell_type": "markdown",
   "metadata": {},
   "source": [
    "Dans imageModel, vous avez les differents paramètres des 3 gaussiennes : celle du fond, celle de Cen A et celle de source 2"
   ]
  },
  {
   "cell_type": "markdown",
   "metadata": {},
   "source": [
    "Il y a 4 paramètres par gaussienne. Ceci permet de savoir quel paramètre correspond à quoi"
   ]
  },
  {
   "cell_type": "code",
   "execution_count": null,
   "metadata": {},
   "outputs": [],
   "source": [
    "print(imageModel)"
   ]
  },
  {
   "cell_type": "markdown",
   "metadata": {},
   "source": [
    "Voici comment est donnée la position de Cen A. En vous en inspirant, trouvez la position de Source 2"
   ]
  },
  {
   "cell_type": "code",
   "execution_count": null,
   "metadata": {},
   "outputs": [],
   "source": [
    "#Determine position of Cen A\n",
    "positionCenA = coodSystem.pixel_to_world(imageModel.y_mean_1.value, imageModel.x_mean_1.value)\n",
    "errPositionCenA = np.mean([errVector[7],errVector[8]])*cdelt\n",
    "sizeCenA = np.mean([imageModel.x_stddev_1.value,imageModel.y_stddev_1.value])*cdelt\n",
    "\n",
    "print(\"Cen A: RA = \"+str(positionCenA.ra.deg)+ \" deg, Dec = \" + str(positionCenA.dec.deg) + \" deg\")\n",
    "print(\"Cen A: apparent size = \" + str(sizeCenA) + \" deg\")\n",
    "print(\"Cen A: Position uncertainty = \"+str(errPositionCenA)+ \" deg\")"
   ]
  }
 ],
 "metadata": {
  "kernelspec": {
   "display_name": "Python 3 (ipykernel)",
   "language": "python",
   "name": "python3"
  },
  "language_info": {
   "codemirror_mode": {
    "name": "ipython",
    "version": 3
   },
   "file_extension": ".py",
   "mimetype": "text/x-python",
   "name": "python",
   "nbconvert_exporter": "python",
   "pygments_lexer": "ipython3",
   "version": "3.8.2"
  }
 },
 "nbformat": 4,
 "nbformat_minor": 4
}
