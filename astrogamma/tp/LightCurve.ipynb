{
 "cells": [
  {
   "cell_type": "markdown",
   "metadata": {},
   "source": [
    "Renseigner le chemin du fichier lightcurve.fits"
   ]
  },
  {
   "cell_type": "code",
   "execution_count": null,
   "metadata": {},
   "outputs": [],
   "source": [
    "fileData = ''"
   ]
  },
  {
   "cell_type": "code",
   "execution_count": null,
   "metadata": {},
   "outputs": [],
   "source": [
    "from astropy.io import fits\n",
    "\n",
    "\n",
    "import os.path\n",
    "print(fileData)\n",
    "if (os.path.exists(fileData)):\n",
    "    print('Le fichier est présent')\n",
    "else:\n",
    "    print(\"Le fichier est faux\")\n",
    "data= fits.open(fileData)"
   ]
  },
  {
   "cell_type": "code",
   "execution_count": null,
   "metadata": {},
   "outputs": [],
   "source": [
    "import matplotlib.pyplot as plt\n",
    "\n",
    "\n",
    "mjd       = []\n",
    "e_mjd     = []\n",
    "flux      = []\n",
    "e_flux    = []\n",
    "intflux   = [] \n",
    "errintflux   = [] \n",
    "\n",
    "for i in range(0,len(data[1].data)):\n",
    "    mjd.append(data[1].data[i][0])\n",
    "    e_mjd.append(data[1].data[i][1])\n",
    "    flux.append(data[1].data[i][2])\n",
    "    e_flux.append(data[1].data[i][3])\n",
    "    intflux.append((20e6**-1.5-0.05e6**-1.5)/(-1.5)*flux[i]/(1.e6**-2.5))\n",
    "    errintflux = intflux[i]*e_flux[i]/flux[i]\n",
    "\n"
   ]
  },
  {
   "cell_type": "code",
   "execution_count": null,
   "metadata": {},
   "outputs": [],
   "source": [
    "# Plot the spectrum \n",
    "plt.figure()\n",
    "plt.grid()\n",
    "plt.errorbar(mjd, intflux, yerr=errintflux, xerr=[e_mjd, e_mjd],\n",
    "                 fmt='ro')\n",
    "\n",
    "plt.xlabel('MJD (days)')\n",
    "plt.ylabel(r'dN/dE (photons cm$^{-2}$ s$^{-1}$)')\n",
    "plt.show()"
   ]
  }
 ],
 "metadata": {
  "kernelspec": {
   "display_name": "Python 3 (ipykernel)",
   "language": "python",
   "name": "python3"
  },
  "language_info": {
   "codemirror_mode": {
    "name": "ipython",
    "version": 3
   },
   "file_extension": ".py",
   "mimetype": "text/x-python",
   "name": "python",
   "nbconvert_exporter": "python",
   "pygments_lexer": "ipython3",
   "version": "3.8.2"
  }
 },
 "nbformat": 4,
 "nbformat_minor": 4
}
